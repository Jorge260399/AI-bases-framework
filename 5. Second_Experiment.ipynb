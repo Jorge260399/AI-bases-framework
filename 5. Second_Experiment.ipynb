{
 "cells": [
  {
   "cell_type": "markdown",
   "metadata": {
    "id": "mrKCmcSdKfqT"
   },
   "source": [
    "# **Libraries**"
   ]
  },
  {
   "cell_type": "code",
   "execution_count": 1,
   "metadata": {
    "id": "0Ud4Negj4qYj"
   },
   "outputs": [],
   "source": [
    "import h5py\n",
    "import cv2\n",
    "import numpy as np\n",
    "import pandas as pd\n",
    "from sklearn.model_selection import train_test_split\n",
    "from sklearn.model_selection import GridSearchCV\n",
    "from sklearn import svm\n",
    "from sklearn.metrics import accuracy_score, precision_score, recall_score, f1_score, make_scorer\n",
    "from sklearn.metrics import confusion_matrix\n",
    "import matplotlib.pyplot as plt\n",
    "import seaborn as sn\n",
    "from sklearn.model_selection import cross_validate, KFold\n",
    "from sklearn.ensemble import RandomForestClassifier\n",
    "from sklearn.decomposition import PCA\n",
    "from itertools import combinations\n",
    "from sklearn.metrics import roc_curve\n",
    "from sklearn.metrics import roc_auc_score\n",
    "from sklearn.model_selection import cross_val_predict"
   ]
  },
  {
   "cell_type": "code",
   "execution_count": 2,
   "metadata": {
    "id": "cDLFYq21b4n-"
   },
   "outputs": [],
   "source": [
    "test_size    = 0.20\n",
    "seed         = 9\n",
    "h5_color     = '/home/operador2020/AI_bases_framework/color_features.h5'\n",
    "h5_colorLb   = '/home/operador2020/AI_bases_framework/color_features_labels.h5'\n",
    "h5_texture   = '/home/operador2020/AI_bases_framework/textural_features.h5'\n",
    "h5_textureLb = '/home/operador2020/AI_bases_framework/textural_features_labels.h5'\n",
    "scoring      = {'accuracy' : make_scorer(accuracy_score),\n",
    "                'f1_score' : make_scorer(f1_score, average = 'weighted'), \n",
    "                'precision' : make_scorer(precision_score, average = 'weighted'),\n",
    "                'recall' : make_scorer(recall_score, average = 'weighted')}\n"
   ]
  },
  {
   "cell_type": "markdown",
   "metadata": {
    "id": "B8eq7qc4Kfqe"
   },
   "source": [
    "# **Load Data**"
   ]
  },
  {
   "cell_type": "code",
   "execution_count": 3,
   "metadata": {},
   "outputs": [
    {
     "name": "stdout",
     "output_type": "stream",
     "text": [
      "[STATUS] features shape: (1242, 512)\n",
      "[STATUS] labels shape: (1242,)\n",
      "[STATUS] training started...\n"
     ]
    }
   ],
   "source": [
    "# import the feature vector and trained labels\n",
    "h5f_color   = h5py.File(h5_color, 'r')\n",
    "h5f_colorLb = h5py.File(h5_colorLb, 'r')\n",
    "\n",
    "color_features_string          = h5f_color['Banana_Ripeness_Color_Features']\n",
    "color_features_labels_string   = h5f_colorLb['Banana_Ripeness_Color_Features_Labels']\n",
    "\n",
    "color_features = np.array(color_features_string)\n",
    "color_features_labels  = np.array(color_features_labels_string)\n",
    "\n",
    "h5f_color.close()\n",
    "h5f_colorLb.close()\n",
    "\n",
    "# verify the shape of the feature vector and labels\n",
    "print(\"[STATUS] features shape: {}\".format(color_features.shape))\n",
    "print(\"[STATUS] labels shape: {}\".format(color_features_labels.shape))\n",
    "\n",
    "print(\"[STATUS] training started...\")"
   ]
  },
  {
   "cell_type": "code",
   "execution_count": 4,
   "metadata": {
    "id": "Z1kAPoQCKfqe",
    "outputId": "7f7b3640-8e98-45fb-a4fd-1fc47eaa24e2"
   },
   "outputs": [
    {
     "name": "stdout",
     "output_type": "stream",
     "text": [
      "[STATUS] features shape: (1242, 13)\n",
      "[STATUS] labels shape: (1242,)\n",
      "[STATUS] training started...\n"
     ]
    }
   ],
   "source": [
    "# import the feature vector and trained labels\n",
    "h5f_texture  = h5py.File(h5_texture, 'r')\n",
    "h5f_textureLb = h5py.File(h5_textureLb, 'r')\n",
    "\n",
    "textural_features_string          = h5f_texture['Banana_Ripeness_Textural_Features']\n",
    "textural_features_labels_string   = h5f_textureLb['Banana_Ripeness_Textural_Features_Labels']\n",
    "\n",
    "textural_features = np.array(textural_features_string )\n",
    "textural_features_labels  = np.array(textural_features_labels_string)\n",
    "\n",
    "h5f_texture.close()\n",
    "h5f_textureLb.close()\n",
    "\n",
    "# verify the shape of the feature vector and labels\n",
    "print(\"[STATUS] features shape: {}\".format(textural_features.shape))\n",
    "print(\"[STATUS] labels shape: {}\".format(textural_features_labels.shape))\n",
    "\n",
    "print(\"[STATUS] training started...\")"
   ]
  },
  {
   "cell_type": "code",
   "execution_count": 5,
   "metadata": {},
   "outputs": [
    {
     "name": "stdout",
     "output_type": "stream",
     "text": [
      "[STATUS] features shape: (1242, 525)\n",
      "[STATUS] labels shape: (1242,)\n"
     ]
    }
   ],
   "source": [
    "global_features = np.hstack([color_features, textural_features])\n",
    "print(\"[STATUS] features shape: {}\".format(global_features.shape))\n",
    "print(\"[STATUS] labels shape: {}\".format(textural_features_labels.shape))"
   ]
  },
  {
   "cell_type": "markdown",
   "metadata": {
    "id": "nV9vDE-xKfqg"
   },
   "source": [
    "# **Identify X and Y**"
   ]
  },
  {
   "cell_type": "code",
   "execution_count": 6,
   "metadata": {
    "id": "Q73H1ra7Kfqg"
   },
   "outputs": [],
   "source": [
    "X = global_features\n",
    "Y = color_features_labels"
   ]
  },
  {
   "cell_type": "markdown",
   "metadata": {
    "id": "w0xkCl-PKfqj"
   },
   "source": [
    "# **Training and Testing**"
   ]
  },
  {
   "cell_type": "code",
   "execution_count": 7,
   "metadata": {
    "colab": {
     "base_uri": "https://localhost:8080/"
    },
    "id": "rJdhlEMQY3Vc",
    "outputId": "6beae8e6-4ca3-4816-9a6d-076f17654632"
   },
   "outputs": [
    {
     "data": {
      "text/plain": [
       "((993, 525), (249, 525))"
      ]
     },
     "execution_count": 7,
     "metadata": {},
     "output_type": "execute_result"
    }
   ],
   "source": [
    "X_train, X_test, y_train, y_test = train_test_split(X, Y,\n",
    "                                        test_size   = test_size,\n",
    "                                        random_state = seed)\n",
    "\n",
    "X_train.shape, X_test.shape"
   ]
  },
  {
   "cell_type": "markdown",
   "metadata": {},
   "source": [
    "# **Applying PCA**"
   ]
  },
  {
   "cell_type": "code",
   "execution_count": 8,
   "metadata": {},
   "outputs": [
    {
     "name": "stdout",
     "output_type": "stream",
     "text": [
      "(993, 19) (249, 19)\n"
     ]
    }
   ],
   "source": [
    "pca = PCA(n_components = 19)\n",
    "pca.fit(X_train)\n",
    "X_train_transformed = pca.transform(X_train)\n",
    "X_test_transformed = pca.transform(X_test)\n",
    "\n",
    "print(X_train_transformed.shape, X_test_transformed.shape)"
   ]
  },
  {
   "cell_type": "code",
   "execution_count": 9,
   "metadata": {},
   "outputs": [
    {
     "data": {
      "text/plain": [
       "<BarContainer object of 19 artists>"
      ]
     },
     "execution_count": 9,
     "metadata": {},
     "output_type": "execute_result"
    },
    {
     "data": {
      "image/png": "[encoded data removed]",
      "text/plain": [
       "<Figure size 432x288 with 1 Axes>"
      ]
     },
     "metadata": {
      "needs_background": "light"
     },
     "output_type": "display_data"
    }
   ],
   "source": [
    "plt.legend('')\n",
    "plt.xlabel('Principal Components')\n",
    "plt.ylabel('Explained Variance')\n",
    "plt.bar(list(range(1, X_train_transformed.shape[1]+1)),pca.explained_variance_ratio_)"
   ]
  },
  {
   "cell_type": "markdown",
   "metadata": {
    "id": "r6fjbUDBcDVF"
   },
   "source": [
    "# **SVM**"
   ]
  },
  {
   "cell_type": "code",
   "execution_count": 10,
   "metadata": {
    "id": "bP-0ClFYbncq"
   },
   "outputs": [],
   "source": [
    "linear_param_grid = {\n",
    "    \n",
    "        \"kernel\": [\"linear\"],\n",
    "        \"C\": [0.0001, 0.001, 0.1, 1, 10, 100, 1000],\n",
    "        \"decision_function_shape\": ['ovo', 'ovr']\n",
    "}"
   ]
  },
  {
   "cell_type": "code",
   "execution_count": 11,
   "metadata": {
    "id": "LneoxEYVdj7_"
   },
   "outputs": [],
   "source": [
    "poly_param_grid = {\n",
    "    \n",
    "        \"kernel\": [\"poly\"],\n",
    "        \"degree\": [2, 3, 4],\n",
    "        \"C\": [0.0001, 0.001, 0.1, 1, 10, 100, 1000],\n",
    "        \"decision_function_shape\": ['ovo', 'ovr']\n",
    "}"
   ]
  },
  {
   "cell_type": "code",
   "execution_count": 27,
   "metadata": {
    "id": "wctFH3zxeFMR"
   },
   "outputs": [],
   "source": [
    "rbf_param_grid = {\n",
    "        \"kernel\": [\"rbf\"],\n",
    "        \"gamma\": [\"auto\", \"scale\"],\n",
    "        \"C\": [0.0001, 0.001, 0.1, 1, 10, 100, 1000],\n",
    "        \"decision_function_shape\": ['ovo', 'ovr']\n",
    "}"
   ]
  },
  {
   "cell_type": "code",
   "execution_count": 13,
   "metadata": {
    "id": "vIo-PRCPeRP4"
   },
   "outputs": [],
   "source": [
    "sigmoid_param_grid = {\n",
    "        \"kernel\": [\"sigmoid\"],\n",
    "        \"gamma\": [\"auto\", \"scale\"],\n",
    "        \"C\": [0.0001, 0.001, 0.1, 1, 10, 100, 1000],\n",
    "        \"decision_function_shape\": ['ovo', 'ovr']\n",
    "}"
   ]
  },
  {
   "cell_type": "markdown",
   "metadata": {
    "id": "uhF73tNOcKA2"
   },
   "source": [
    "### **Linear Kernel**"
   ]
  },
  {
   "cell_type": "code",
   "execution_count": 28,
   "metadata": {
    "colab": {
     "base_uri": "https://localhost:8080/"
    },
    "id": "karLL414brVm",
    "outputId": "c47a6a45-1413-4118-a31f-40c2a746963b"
   },
   "outputs": [
    {
     "name": "stdout",
     "output_type": "stream",
     "text": [
      "SVC(C=10, decision_function_shape='ovo', kernel='linear')\n"
     ]
    }
   ],
   "source": [
    "linear_grid = GridSearchCV(svm.SVC(), linear_param_grid)\n",
    "linear_grid.fit(X_train_transformed,y_train)\n",
    "print(linear_grid.best_estimator_)"
   ]
  },
  {
   "cell_type": "code",
   "execution_count": 29,
   "metadata": {
    "colab": {
     "base_uri": "https://localhost:8080/"
    },
    "id": "wjtdwgaSb1sw",
    "outputId": "a3717a14-1066-41d3-f47d-37bd0b746ca3"
   },
   "outputs": [
    {
     "name": "stdout",
     "output_type": "stream",
     "text": [
      "Accuracy (Linear Kernel):  96.38554\n",
      "F1 (Linear Kernel):  96.38181\n",
      "Precision (Linear Kernel):  96.38284\n",
      "Recall (Linear Kernel):  96.38554\n"
     ]
    }
   ],
   "source": [
    "linear_pred = linear_grid.predict(X_test_transformed)\n",
    "linear_accuracy = accuracy_score(y_test, linear_pred)\n",
    "linear_precision = precision_score(y_test, linear_pred, average='weighted')\n",
    "linear_recall = recall_score(y_test, linear_pred, average='weighted')\n",
    "linear_f1 = f1_score(y_test, linear_pred, average='weighted')\n",
    "print('Accuracy (Linear Kernel): ', \"%.5f\" % (linear_accuracy*100))\n",
    "print('F1 (Linear Kernel): ', \"%.5f\" % (linear_f1*100))\n",
    "print('Precision (Linear Kernel): ', \"%.5f\" % (linear_precision*100))\n",
    "print('Recall (Linear Kernel): ', \"%.5f\" % (linear_recall*100))"
   ]
  },
  {
   "cell_type": "code",
   "execution_count": 30,
   "metadata": {
    "colab": {
     "base_uri": "https://localhost:8080/",
     "height": 394
    },
    "id": "1kZw5Gm-b_u7",
    "outputId": "7e5dd851-97a4-4c4b-c315-fa03c92e3289"
   },
   "outputs": [
    {
     "name": "stdout",
     "output_type": "stream",
     "text": [
      "Accuracy (Linear Kernel):  97.48083\n",
      "F1 (Linear Kernel):  97.47990\n",
      "Precision (Linear Kernel):  97.51840\n",
      "Recall (Linear Kernel):  97.48083\n"
     ]
    }
   ],
   "source": [
    "results = cross_validate(estimator=linear_grid, X=X_train_transformed, y=y_train, cv=6, scoring=scoring)\n",
    "\n",
    "print('Accuracy (Linear Kernel): ', \"%.5f\" % (np.mean(results['test_accuracy'])*100))\n",
    "print('F1 (Linear Kernel): ', \"%.5f\" % (np.mean(results['test_f1_score'])*100))\n",
    "print('Precision (Linear Kernel): ', \"%.5f\" % (np.mean(results['test_precision'])*100))\n",
    "print('Recall (Linear Kernel): ', \"%.5f\" % (np.mean(results['test_recall'])*100))"
   ]
  },
  {
   "cell_type": "markdown",
   "metadata": {
    "id": "U-k-iRlwde3R"
   },
   "source": [
    "### **Polynomial Kernel**"
   ]
  },
  {
   "cell_type": "code",
   "execution_count": 31,
   "metadata": {
    "id": "1f1xJJSldm-J",
    "outputId": "3e1fa998-f15c-4b4c-eaf4-59e7d6c78922"
   },
   "outputs": [
    {
     "name": "stdout",
     "output_type": "stream",
     "text": [
      "SVC(C=100, decision_function_shape='ovo', kernel='poly', probability=True)\n"
     ]
    }
   ],
   "source": [
    "poly_grid = GridSearchCV(svm.SVC(probability=True), poly_param_grid)\n",
    "poly_grid.fit(X_train_transformed,y_train)\n",
    "print(poly_grid.best_estimator_)"
   ]
  },
  {
   "cell_type": "code",
   "execution_count": 32,
   "metadata": {
    "id": "DZsYITMzdzQs",
    "outputId": "d06b5cec-cb6a-4ada-aad1-e9aab8815b0f"
   },
   "outputs": [
    {
     "name": "stdout",
     "output_type": "stream",
     "text": [
      "Accuracy (Polynomial Kernel):  99.60\n",
      "F1 (Polynomial Kernel):  99.60\n",
      "Precision (Polynomial Kernel):  99.60\n",
      "Recall (Polynomial Kernel):  99.60\n"
     ]
    }
   ],
   "source": [
    "poly_pred = poly_grid.predict(X_test_transformed)\n",
    "poly_accuracy = accuracy_score(y_test, poly_pred)\n",
    "poly_precision = precision_score(y_test, poly_pred, average='weighted')\n",
    "poly_recall = recall_score(y_test, poly_pred, average='weighted')\n",
    "poly_f1 = f1_score(y_test, poly_pred, average='weighted')\n",
    "print('Accuracy (Polynomial Kernel): ', \"%.2f\" % (poly_accuracy*100))\n",
    "print('F1 (Polynomial Kernel): ', \"%.2f\" % (poly_f1*100))\n",
    "print('Precision (Polynomial Kernel): ', \"%.2f\" % (poly_precision*100))\n",
    "print('Recall (Polynomial Kernel): ', \"%.2f\" % (poly_recall*100))"
   ]
  },
  {
   "cell_type": "code",
   "execution_count": 33,
   "metadata": {
    "id": "Bh5PXZHReBWJ",
    "outputId": "cf26a50d-bf91-408a-a516-4890b8fc475a"
   },
   "outputs": [
    {
     "name": "stdout",
     "output_type": "stream",
     "text": [
      "Accuracy (Polynomial Kernel):  98.69\n",
      "F1 (Polynomial Kernel):  98.69\n",
      "Precision (Polynomial Kernel):  98.72\n",
      "Recall (Polynomial Kernel):  98.69\n"
     ]
    }
   ],
   "source": [
    "results = cross_validate(estimator=poly_grid, X=X_train_transformed, y=y_train, cv=8, scoring=scoring)\n",
    "\n",
    "print('Accuracy (Polynomial Kernel): ', \"%.2f\" % (np.mean(results['test_accuracy'])*100))\n",
    "print('F1 (Polynomial Kernel): ', \"%.2f\" % (np.mean(results['test_f1_score'])*100))\n",
    "print('Precision (Polynomial Kernel): ', \"%.2f\" % (np.mean(results['test_precision'])*100))\n",
    "print('Recall (Polynomial Kernel): ', \"%.2f\" % (np.mean(results['test_recall'])*100))"
   ]
  },
  {
   "cell_type": "markdown",
   "metadata": {
    "id": "0Cf9pkceeGth"
   },
   "source": [
    "### **RBF Kernel**"
   ]
  },
  {
   "cell_type": "code",
   "execution_count": 32,
   "metadata": {
    "id": "ckEeR-9VeJKP",
    "outputId": "c53aa3d5-356f-4c2a-9a55-bb9a72a63b9e"
   },
   "outputs": [
    {
     "name": "stdout",
     "output_type": "stream",
     "text": [
      "SVC(C=10, decision_function_shape='ovo', probability=True)\n"
     ]
    }
   ],
   "source": [
    "rbf_grid = GridSearchCV(svm.SVC(probability=True), rbf_param_grid)\n",
    "rbf_grid.fit(X_train_transformed,y_train)\n",
    "print(rbf_grid.best_estimator_)"
   ]
  },
  {
   "cell_type": "code",
   "execution_count": 33,
   "metadata": {
    "id": "Stt0jMcSeM3T",
    "outputId": "1c3836e7-29b0-4b5f-d75c-122ec757e69c"
   },
   "outputs": [
    {
     "name": "stdout",
     "output_type": "stream",
     "text": [
      "Accuracy (RBF Kernel):  99.60\n",
      "F1 (RBF Kernel):  99.60\n",
      "Precision (RBF Kernel):  99.60\n",
      "Recall (RBF Kernel):  99.60\n"
     ]
    }
   ],
   "source": [
    "rbf_pred = rbf_grid.predict(X_test_transformed)\n",
    "rbf_accuracy = accuracy_score(y_test, rbf_pred)\n",
    "rbf_precision = precision_score(y_test, rbf_pred, average='weighted')\n",
    "rbf_recall = recall_score(y_test, rbf_pred, average='weighted')\n",
    "rbf_f1 = f1_score(y_test, rbf_pred, average='weighted')\n",
    "print('Accuracy (RBF Kernel): ', \"%.2f\" % (rbf_accuracy*100))\n",
    "print('F1 (RBF Kernel): ', \"%.2f\" % (rbf_f1*100))\n",
    "print('Precision (RBF Kernel): ', \"%.2f\" % (rbf_precision*100))\n",
    "print('Recall (RBF Kernel): ', \"%.2f\" % (rbf_recall*100))"
   ]
  },
  {
   "cell_type": "code",
   "execution_count": 34,
   "metadata": {
    "id": "mS0H0p6xeO86",
    "outputId": "5d012311-0ad0-4cc8-b9e5-6bb216f5e7ad"
   },
   "outputs": [
    {
     "name": "stdout",
     "output_type": "stream",
     "text": [
      "Accuracy (RBF Kernel):  98.39\n",
      "F1 (RBF Kernel):  98.39\n",
      "Precision (RBF Kernel):  98.44\n",
      "Recall (RBF Kernel):  98.39\n"
     ]
    }
   ],
   "source": [
    "results = cross_validate(estimator=rbf_grid, X=X_train_transformed, y=y_train, cv=8, scoring=scoring)\n",
    "\n",
    "print('Accuracy (RBF Kernel): ', \"%.2f\" % (np.mean(results['test_accuracy'])*100))\n",
    "print('F1 (RBF Kernel): ', \"%.2f\" % (np.mean(results['test_f1_score'])*100))\n",
    "print('Precision (RBF Kernel): ', \"%.2f\" % (np.mean(results['test_precision'])*100))\n",
    "print('Recall (RBF Kernel): ', \"%.2f\" % (np.mean(results['test_recall'])*100))"
   ]
  },
  {
   "cell_type": "code",
   "execution_count": 35,
   "metadata": {},
   "outputs": [],
   "source": [
    "rbf_pred_prob = cross_val_predict(estimator=rbf_grid, X=X_train_transformed, y=y_train, cv=8, method='predict_proba')"
   ]
  },
  {
   "cell_type": "markdown",
   "metadata": {
    "id": "YsxMmoRje_XG"
   },
   "source": [
    "### **Sigmoid Kernel**"
   ]
  },
  {
   "cell_type": "code",
   "execution_count": 37,
   "metadata": {
    "id": "YSA6Q7z0eTBL",
    "outputId": "d381fc5c-5565-4aa1-a513-fc514c6dbbb7"
   },
   "outputs": [
    {
     "name": "stdout",
     "output_type": "stream",
     "text": [
      "SVC(C=100, decision_function_shape='ovo', gamma='auto', kernel='sigmoid')\n"
     ]
    }
   ],
   "source": [
    "sigmoid_grid = GridSearchCV(svm.SVC(), sigmoid_param_grid)\n",
    "sigmoid_grid.fit(X_train_transformed,y_train)\n",
    "print(sigmoid_grid.best_estimator_)"
   ]
  },
  {
   "cell_type": "code",
   "execution_count": 38,
   "metadata": {
    "id": "s5laHgsKeVfe",
    "outputId": "ba093616-a6c3-4c0d-e1df-7de87b1197c9"
   },
   "outputs": [
    {
     "name": "stdout",
     "output_type": "stream",
     "text": [
      "Accuracy (Sigmoid Kernel):  95.58\n",
      "F1 (Sigmoid Kernel):  95.57\n",
      "Precision (Sigmoid Kernel):  95.60\n",
      "Recall (Sigmoid Kernel):  95.58\n"
     ]
    }
   ],
   "source": [
    "sigmoid_pred = sigmoid_grid.predict(X_test_transformed)\n",
    "sigmoid_accuracy = accuracy_score(y_test, sigmoid_pred)\n",
    "sigmoid_precision = precision_score(y_test, sigmoid_pred, average='weighted')\n",
    "sigmoid_recall = recall_score(y_test, sigmoid_pred, average='weighted')\n",
    "sigmoid_f1 = f1_score(y_test, sigmoid_pred, average='weighted')\n",
    "print('Accuracy (Sigmoid Kernel): ', \"%.2f\" % (sigmoid_accuracy*100))\n",
    "print('F1 (Sigmoid Kernel): ', \"%.2f\" % (sigmoid_f1*100))\n",
    "print('Precision (Sigmoid Kernel): ', \"%.2f\" % (sigmoid_precision*100))\n",
    "print('Recall (Sigmoid Kernel): ', \"%.2f\" % (sigmoid_recall*100))"
   ]
  },
  {
   "cell_type": "code",
   "execution_count": 39,
   "metadata": {
    "id": "c2v_QpyDeXiz",
    "outputId": "ebef1404-8c10-4e70-9e14-224ef13c4a9e"
   },
   "outputs": [
    {
     "name": "stdout",
     "output_type": "stream",
     "text": [
      "Accuracy (Sigmoid Kernel):  96.37\n",
      "F1 (Sigmoid Kernel):  96.37\n",
      "Precision (Sigmoid Kernel):  96.49\n",
      "Recall (Sigmoid Kernel):  96.37\n"
     ]
    }
   ],
   "source": [
    "results = cross_validate(estimator=sigmoid_grid, X=X_train_transformed, y=y_train, cv=8, scoring=scoring)\n",
    "\n",
    "print('Accuracy (Sigmoid Kernel): ', \"%.2f\" % (np.mean(results['test_accuracy'])*100))\n",
    "print('F1 (Sigmoid Kernel): ', \"%.2f\" % (np.mean(results['test_f1_score'])*100))\n",
    "print('Precision (Sigmoid Kernel): ', \"%.2f\" % (np.mean(results['test_precision'])*100))\n",
    "print('Recall (Sigmoid Kernel): ', \"%.2f\" % (np.mean(results['test_recall'])*100))"
   ]
  },
  {
   "cell_type": "markdown",
   "metadata": {},
   "source": [
    "## **DAGSVM**"
   ]
  },
  {
   "cell_type": "code",
   "execution_count": 25,
   "metadata": {},
   "outputs": [],
   "source": [
    "def predict_class(X, classifiers, distinct_classes, class_pairs):\n",
    "    results = []\n",
    "    for x_row in X:\n",
    "\n",
    "        class_list = list(distinct_classes)\n",
    "\n",
    "        # After each prediction, delete the rejected class\n",
    "        # until there is only one class\n",
    "        while len(class_list) > 1:\n",
    "            # We start with the pair of the first and last element in the list\n",
    "            class_pair = (class_list[0], class_list[-1])\n",
    "            classifier_index = class_pairs.index(class_pair)\n",
    "            x_row = x_row.reshape(-1,19)\n",
    "            y_pred = classifiers[classifier_index].predict(x_row)\n",
    "            \n",
    "            if y_pred == 1:\n",
    "                class_to_delete = class_pair[1]\n",
    "            else:\n",
    "                class_to_delete = class_pair[0]\n",
    "\n",
    "            class_list.remove(class_to_delete)\n",
    "\n",
    "        results.append(class_list[0])\n",
    "    return np.array(results)"
   ]
  },
  {
   "cell_type": "code",
   "execution_count": 26,
   "metadata": {},
   "outputs": [],
   "source": [
    "# Create datasets\n",
    "training_data = []\n",
    "class_pairs = list(combinations(set(y_train), 2))\n",
    "for class_pair in class_pairs:\n",
    "    class_mask = np.where((y_train == class_pair[0]) | (y_train == class_pair[1]))\n",
    "    y_i = np.where(y_train[class_mask] == class_pair[0], 1, -1)\n",
    "    training_data.append((X_train_transformed[class_mask], y_i))"
   ]
  },
  {
   "cell_type": "markdown",
   "metadata": {},
   "source": [
    "### **Linear Kernel**"
   ]
  },
  {
   "cell_type": "code",
   "execution_count": 42,
   "metadata": {},
   "outputs": [
    {
     "name": "stdout",
     "output_type": "stream",
     "text": [
      "SVC(C=10, decision_function_shape='ovo', kernel='linear')\n"
     ]
    }
   ],
   "source": [
    "# Train one classifier per class\n",
    "classifiers = []\n",
    "for data in training_data:\n",
    "    linear = svm.SVC(C=10, decision_function_shape='ovo', kernel='linear')\n",
    "    linear.fit(data[0], data[1])\n",
    "    classifiers.append(linear)\n",
    "print(linear)"
   ]
  },
  {
   "cell_type": "code",
   "execution_count": 43,
   "metadata": {},
   "outputs": [
    {
     "name": "stdout",
     "output_type": "stream",
     "text": [
      "Accuracy (DAG Linear Kernel):  96.38554\n",
      "F1 (DAG Linear Kernel):  96.38181\n",
      "Precision (DAG Linear Kernel):  96.38284\n",
      "Recall (DAG Linear Kernel):  96.38554\n"
     ]
    }
   ],
   "source": [
    "DAG_linear_pred = predict_class(X_test_transformed, classifiers, set(y_train), class_pairs)\n",
    "\n",
    "DAG_linear_accuracy = accuracy_score(y_test, DAG_linear_pred)\n",
    "DAG_linear_precision = precision_score(y_test, DAG_linear_pred, average='weighted')\n",
    "DAG_linear_recall = recall_score(y_test, DAG_linear_pred, average='weighted')\n",
    "DAG_linear_f1 = f1_score(y_test, DAG_linear_pred, average='weighted')\n",
    "print('Accuracy (DAG Linear Kernel): ', \"%.5f\" % (DAG_linear_accuracy*100))\n",
    "print('F1 (DAG Linear Kernel): ', \"%.5f\" % (DAG_linear_f1*100))\n",
    "print('Precision (DAG Linear Kernel): ', \"%.5f\" % (DAG_linear_precision*100))\n",
    "print('Recall (DAG Linear Kernel): ', \"%.5f\" % (DAG_linear_recall*100))"
   ]
  },
  {
   "cell_type": "code",
   "execution_count": 44,
   "metadata": {},
   "outputs": [
    {
     "name": "stdout",
     "output_type": "stream",
     "text": [
      "Accuracy (DAG Linear Kernel):  97.07801\n",
      "F1 (DAG Linear Kernel):  97.07627\n",
      "Precision (DAG Linear Kernel):  97.14206\n",
      "Recall (DAG Linear Kernel):  97.07801\n"
     ]
    }
   ],
   "source": [
    "results = cross_validate(estimator=linear, X=X_train_transformed, y=y_train, cv=6, scoring=scoring)\n",
    "\n",
    "print('Accuracy (DAG Linear Kernel): ', \"%.5f\" % (np.mean(results['test_accuracy'])*100))\n",
    "print('F1 (DAG Linear Kernel): ', \"%.5f\" % (np.mean(results['test_f1_score'])*100))\n",
    "print('Precision (DAG Linear Kernel): ', \"%.5f\" % (np.mean(results['test_precision'])*100))\n",
    "print('Recall (DAG Linear Kernel): ', \"%.5f\" % (np.mean(results['test_recall'])*100))"
   ]
  },
  {
   "cell_type": "markdown",
   "metadata": {},
   "source": [
    "### **Polynomial Kernel**"
   ]
  },
  {
   "cell_type": "code",
   "execution_count": 45,
   "metadata": {},
   "outputs": [
    {
     "name": "stdout",
     "output_type": "stream",
     "text": [
      "SVC(C=100, decision_function_shape='ovo', kernel='poly')\n"
     ]
    }
   ],
   "source": [
    "# Train one classifier per class\n",
    "classifiers = []\n",
    "for data in training_data:\n",
    "    poly = svm.SVC(C=100, decision_function_shape='ovo', kernel='poly')\n",
    "    poly.fit(data[0], data[1])\n",
    "    classifiers.append(poly)\n",
    "print(poly)"
   ]
  },
  {
   "cell_type": "code",
   "execution_count": 46,
   "metadata": {},
   "outputs": [
    {
     "name": "stdout",
     "output_type": "stream",
     "text": [
      "Accuracy (DAG Polynomial Kernel):  100.00\n",
      "F1 (DAG Polynomial Kernel):  100.00\n",
      "Precision (DAG Polynomial Kernel):  100.00\n",
      "Recall (DAG Polynomial Kernel):  100.00\n"
     ]
    }
   ],
   "source": [
    "DAG_poly_pred = predict_class(X_test_transformed, classifiers, set(y_train), class_pairs)\n",
    "\n",
    "DAG_poly_accuracy = accuracy_score(y_test, DAG_poly_pred)\n",
    "DAG_poly_precision = precision_score(y_test, DAG_poly_pred, average='weighted')\n",
    "DAG_poly_recall = recall_score(y_test, DAG_poly_pred, average='weighted')\n",
    "DAG_poly_f1 = f1_score(y_test, DAG_poly_pred, average='weighted')\n",
    "print('Accuracy (DAG Polynomial Kernel): ', \"%.2f\" % (DAG_poly_accuracy*100))\n",
    "print('F1 (DAG Polynomial Kernel): ', \"%.2f\" % (DAG_poly_f1*100))\n",
    "print('Precision (DAG Polynomial Kernel): ', \"%.2f\" % (DAG_poly_precision*100))\n",
    "print('Recall (DAG Polynomial Kernel): ', \"%.2f\" % (DAG_poly_recall*100))"
   ]
  },
  {
   "cell_type": "code",
   "execution_count": 47,
   "metadata": {},
   "outputs": [
    {
     "name": "stdout",
     "output_type": "stream",
     "text": [
      "Accuracy (DAG Polynomial Kernel):  98.69\n",
      "F1 (DAG Polynomial Kernel):  98.69\n",
      "Precision (DAG Polynomial Kernel):  98.72\n",
      "Recall (DAG Polynomial Kernel):  98.69\n"
     ]
    }
   ],
   "source": [
    "results = cross_validate(estimator=poly, X=X_train_transformed, y=y_train, cv=8, scoring=scoring)\n",
    "\n",
    "print('Accuracy (DAG Polynomial Kernel): ', \"%.2f\" % (np.mean(results['test_accuracy'])*100))\n",
    "print('F1 (DAG Polynomial Kernel): ', \"%.2f\" % (np.mean(results['test_f1_score'])*100))\n",
    "print('Precision (DAG Polynomial Kernel): ', \"%.2f\" % (np.mean(results['test_precision'])*100))\n",
    "print('Recall (DAG Polynomial Kernel): ', \"%.2f\" % (np.mean(results['test_recall'])*100))"
   ]
  },
  {
   "cell_type": "markdown",
   "metadata": {},
   "source": [
    "### **RBF Kernel**"
   ]
  },
  {
   "cell_type": "code",
   "execution_count": 19,
   "metadata": {},
   "outputs": [
    {
     "name": "stdout",
     "output_type": "stream",
     "text": [
      "SVC(C=10, decision_function_shape='ovo', probability=True)\n"
     ]
    }
   ],
   "source": [
    "# Train one classifier per class\n",
    "classifiers = []\n",
    "for data in training_data:\n",
    "    rbf = svm.SVC(C=10, decision_function_shape='ovo', probability=True)\n",
    "    rbf.fit(data[0], data[1])\n",
    "    classifiers.append(rbf)\n",
    "print(rbf)"
   ]
  },
  {
   "cell_type": "code",
   "execution_count": 20,
   "metadata": {},
   "outputs": [
    {
     "name": "stdout",
     "output_type": "stream",
     "text": [
      "Accuracy (DAG RBF Kernel):  99.20\n",
      "F1 (DAG RBF Kernel):  99.20\n",
      "Precision (DAG RBF Kernel):  99.20\n",
      "Recall (DAG RBF Kernel):  99.20\n"
     ]
    }
   ],
   "source": [
    "DAG_rbf_pred = predict_class(X_test_transformed, classifiers, set(y_train), class_pairs)\n",
    "\n",
    "DAG_rbf_accuracy = accuracy_score(y_test, DAG_rbf_pred)\n",
    "DAG_rbf_precision = precision_score(y_test, DAG_rbf_pred, average='weighted')\n",
    "DAG_rbf_recall = recall_score(y_test, DAG_rbf_pred, average='weighted')\n",
    "DAG_rbf_f1 = f1_score(y_test, DAG_rbf_pred, average='weighted')\n",
    "print('Accuracy (DAG RBF Kernel): ', \"%.2f\" % (DAG_rbf_accuracy*100))\n",
    "print('F1 (DAG RBF Kernel): ', \"%.2f\" % (DAG_rbf_f1*100))\n",
    "print('Precision (DAG RBF Kernel): ', \"%.2f\" % (DAG_rbf_precision*100))\n",
    "print('Recall (DAG RBF Kernel): ', \"%.2f\" % (DAG_rbf_recall*100))"
   ]
  },
  {
   "cell_type": "code",
   "execution_count": 21,
   "metadata": {},
   "outputs": [
    {
     "name": "stdout",
     "output_type": "stream",
     "text": [
      "Accuracy (DAG RBF Kernel):  98.89\n",
      "F1 (DAG RBF Kernel):  98.89\n",
      "Precision (DAG RBF Kernel):  98.93\n",
      "Recall (DAG RBF Kernel):  98.89\n"
     ]
    }
   ],
   "source": [
    "results = cross_validate(estimator=rbf, X=X_train_transformed, y=y_train, cv=8, scoring=scoring)\n",
    "\n",
    "print('Accuracy (DAG RBF Kernel): ', \"%.2f\" % (np.mean(results['test_accuracy'])*100))\n",
    "print('F1 (DAG RBF Kernel): ', \"%.2f\" % (np.mean(results['test_f1_score'])*100))\n",
    "print('Precision (DAG RBF Kernel): ', \"%.2f\" % (np.mean(results['test_precision'])*100))\n",
    "print('Recall (DAG RBF Kernel): ', \"%.2f\" % (np.mean(results['test_recall'])*100))\n",
    "\n",
    "DAG_rbf_pred_prob = cross_val_predict(estimator=rbf, X=X_train_transformed, y=y_train, cv=8, method='predict_proba')"
   ]
  },
  {
   "cell_type": "markdown",
   "metadata": {},
   "source": [
    "### **Sigmoid Kernel**"
   ]
  },
  {
   "cell_type": "code",
   "execution_count": 51,
   "metadata": {},
   "outputs": [
    {
     "name": "stdout",
     "output_type": "stream",
     "text": [
      "SVC(C=100, decision_function_shape='ovo', gamma='auto', kernel='sigmoid')\n"
     ]
    }
   ],
   "source": [
    "# Train one classifier per class\n",
    "classifiers = []\n",
    "for data in training_data:\n",
    "    sigmoid = svm.SVC(C=100, decision_function_shape='ovo', gamma='auto', kernel='sigmoid')\n",
    "    sigmoid.fit(data[0], data[1])\n",
    "    classifiers.append(sigmoid)\n",
    "print(sigmoid)"
   ]
  },
  {
   "cell_type": "code",
   "execution_count": 52,
   "metadata": {},
   "outputs": [
    {
     "name": "stdout",
     "output_type": "stream",
     "text": [
      "Accuracy (DAG Sigmoid Kernel):  96.39\n",
      "F1 (DAG Sigmoid Kernel):  96.37\n",
      "Precision (DAG Sigmoid Kernel):  96.40\n",
      "Recall (DAG Sigmoid Kernel):  96.39\n"
     ]
    }
   ],
   "source": [
    "DAG_sigmoid_pred = predict_class(X_test_transformed, classifiers, set(y_train), class_pairs)\n",
    "\n",
    "DAG_sigmoid_accuracy = accuracy_score(y_test, DAG_sigmoid_pred)\n",
    "DAG_sigmoid_precision = precision_score(y_test, DAG_sigmoid_pred, average='weighted')\n",
    "DAG_sigmoid_recall = recall_score(y_test, DAG_sigmoid_pred, average='weighted')\n",
    "DAG_sigmoid_f1 = f1_score(y_test, DAG_sigmoid_pred, average='weighted')\n",
    "print('Accuracy (DAG Sigmoid Kernel): ', \"%.2f\" % (DAG_sigmoid_accuracy*100))\n",
    "print('F1 (DAG Sigmoid Kernel): ', \"%.2f\" % (DAG_sigmoid_f1*100))\n",
    "print('Precision (DAG Sigmoid Kernel): ', \"%.2f\" % (DAG_sigmoid_precision*100))\n",
    "print('Recall (DAG Sigmoid Kernel): ', \"%.2f\" % (DAG_sigmoid_recall*100))"
   ]
  },
  {
   "cell_type": "code",
   "execution_count": 53,
   "metadata": {},
   "outputs": [
    {
     "name": "stdout",
     "output_type": "stream",
     "text": [
      "Accuracy (DAG Sigmoid Kernel):  96.47\n",
      "F1 (DAG Sigmoid Kernel):  96.47\n",
      "Precision (DAG Sigmoid Kernel):  96.57\n",
      "Recall (DAG Sigmoid Kernel):  96.47\n"
     ]
    }
   ],
   "source": [
    "results = cross_validate(estimator=sigmoid, X=X_train_transformed, y=y_train, cv=8, scoring=scoring)\n",
    "\n",
    "print('Accuracy (DAG Sigmoid Kernel): ', \"%.2f\" % (np.mean(results['test_accuracy'])*100))\n",
    "print('F1 (DAG Sigmoid Kernel): ', \"%.2f\" % (np.mean(results['test_f1_score'])*100))\n",
    "print('Precision (DAG Sigmoid Kernel): ', \"%.2f\" % (np.mean(results['test_precision'])*100))\n",
    "print('Recall (DAG Sigmoid Kernel): ', \"%.2f\" % (np.mean(results['test_recall'])*100))"
   ]
  },
  {
   "cell_type": "markdown",
   "metadata": {
    "id": "OArnZ5u-ea9D"
   },
   "source": [
    "# **Random Forest**"
   ]
  },
  {
   "cell_type": "code",
   "execution_count": 54,
   "metadata": {
    "id": "7rbpOtEjeaCc"
   },
   "outputs": [],
   "source": [
    "param_grid = {\n",
    "     'n_estimators': [90, 100, 115, 130],\n",
    "     'criterion': ['gini', 'entropy'],\n",
    "     'max_depth' : [4, 5, 6, 7, 8],\n",
    "     'max_features': ['auto', 'log2', 'sqrt'] \n",
    "}"
   ]
  },
  {
   "cell_type": "code",
   "execution_count": 55,
   "metadata": {
    "id": "de79SVzxeiaj",
    "outputId": "ef12d7b1-49b8-4cc0-bbbf-83296fe235a4"
   },
   "outputs": [
    {
     "name": "stdout",
     "output_type": "stream",
     "text": [
      "RandomForestClassifier(criterion='entropy', max_depth=8, n_estimators=115)\n"
     ]
    }
   ],
   "source": [
    "randomF_grid = GridSearchCV(RandomForestClassifier(), param_grid)\n",
    "randomF_grid.fit(X_train_transformed,y_train)\n",
    "print(randomF_grid.best_estimator_)"
   ]
  },
  {
   "cell_type": "code",
   "execution_count": 56,
   "metadata": {},
   "outputs": [
    {
     "data": {
      "text/plain": [
       "RandomForestClassifier(criterion='entropy', max_depth=8, n_estimators=115)"
      ]
     },
     "execution_count": 56,
     "metadata": {},
     "output_type": "execute_result"
    }
   ],
   "source": [
    "rf = randomF_grid.best_estimator_\n",
    "rf.fit(X_train_transformed,y_train)"
   ]
  },
  {
   "cell_type": "code",
   "execution_count": 57,
   "metadata": {
    "id": "liqseJC-ekcN",
    "outputId": "fcd811cc-30c5-4e2d-9e9d-eb65203a746a"
   },
   "outputs": [
    {
     "name": "stdout",
     "output_type": "stream",
     "text": [
      "Accuracy (Random Forest):  97.19\n",
      "F1 (Random Forest):  97.19\n",
      "Precision (Random Forest):  97.19\n",
      "Recall (Random Forest):  97.19\n"
     ]
    }
   ],
   "source": [
    "random_pred = rf.predict(X_test_transformed)\n",
    "\n",
    "random_accuracy = accuracy_score(y_test, random_pred)\n",
    "random_precision = precision_score(y_test, random_pred, average='weighted')\n",
    "random_recall = recall_score(y_test, random_pred, average='weighted')\n",
    "random_f1 = f1_score(y_test, random_pred, average='weighted')\n",
    "       \n",
    "print('Accuracy (Random Forest): ', \"%.2f\" % (random_accuracy*100))\n",
    "print('F1 (Random Forest): ', \"%.2f\" % (random_precision*100))\n",
    "print('Precision (Random Forest): ', \"%.2f\" % (random_recall*100))\n",
    "print('Recall (Random Forest): ', \"%.2f\" % (random_f1*100))"
   ]
  },
  {
   "cell_type": "code",
   "execution_count": 58,
   "metadata": {
    "id": "rlFhuzNEenAc",
    "outputId": "bf5e0344-5625-4df2-c6be-0b6efc90517f"
   },
   "outputs": [
    {
     "name": "stdout",
     "output_type": "stream",
     "text": [
      "Accuracy (Random Forest):  96.98\n",
      "F1 (Random Forest):  96.98\n",
      "Precision (Random Forest):  97.13\n",
      "Recall (Random Forest):  96.98\n"
     ]
    }
   ],
   "source": [
    "results = cross_validate(estimator=rf, X=X_train_transformed, y=y_train, cv=10, scoring=scoring)\n",
    "\n",
    "print('Accuracy (Random Forest): ', \"%.2f\" % (np.mean(results['test_accuracy'])*100))\n",
    "print('F1 (Random Forest): ', \"%.2f\" % (np.mean(results['test_f1_score'])*100))\n",
    "print('Precision (Random Forest): ', \"%.2f\" % (np.mean(results['test_precision'])*100))\n",
    "print('Recall (Random Forest): ', \"%.2f\" % (np.mean(results['test_recall'])*100))"
   ]
  },
  {
   "cell_type": "markdown",
   "metadata": {},
   "source": [
    "# **Metrics Evaluation**"
   ]
  },
  {
   "cell_type": "code",
   "execution_count": 38,
   "metadata": {},
   "outputs": [
    {
     "data": {
      "text/plain": [
       "<matplotlib.legend.Legend at 0x7f7fcc9bdb20>"
      ]
     },
     "execution_count": 38,
     "metadata": {},
     "output_type": "execute_result"
    },
    {
     "data": {
      "image/png": "[encoded data removed]",
      "text/plain": [
       "<Figure size 432x288 with 1 Axes>"
      ]
     },
     "metadata": {
      "needs_background": "light"
     },
     "output_type": "display_data"
    }
   ],
   "source": [
    "# roc curve for classes\n",
    "fpr = {}\n",
    "tpr = {}\n",
    "thresh ={}\n",
    "\n",
    "n_class = 3\n",
    "\n",
    "for i in range(n_class):    \n",
    "    fpr[i], tpr[i], thresh[i] = roc_curve(y_train, rbf_pred_prob[:,i], pos_label=i)\n",
    "    \n",
    "# plotting    \n",
    "plt.plot(fpr[0], tpr[0], linestyle='--',color='orange', label='Class totally green vs Rest')\n",
    "plt.plot(fpr[1], tpr[1], linestyle='--',color='green', label='Class yellow with green tips vs Rest')\n",
    "plt.plot(fpr[2], tpr[2], linestyle='--',color='blue', label='Class yellow with brown spots vs Rest')\n",
    "plt.title('(a) VBMSVM RBF Kernel with PCA')\n",
    "plt.xlabel('False Positive Rate')\n",
    "plt.ylabel('True Positive rate')\n",
    "plt.legend(loc='best')  "
   ]
  },
  {
   "cell_type": "code",
   "execution_count": 39,
   "metadata": {},
   "outputs": [
    {
     "data": {
      "text/plain": [
       "<matplotlib.legend.Legend at 0x7f7fcc931e20>"
      ]
     },
     "execution_count": 39,
     "metadata": {},
     "output_type": "execute_result"
    },
    {
     "data": {
      "image/png": "[encoded data removed]",
      "text/plain": [
       "<Figure size 432x288 with 1 Axes>"
      ]
     },
     "metadata": {
      "needs_background": "light"
     },
     "output_type": "display_data"
    }
   ],
   "source": [
    "# roc curve for classes\n",
    "fpr = {}\n",
    "tpr = {}\n",
    "thresh ={}\n",
    "\n",
    "n_class = 3\n",
    "\n",
    "for i in range(n_class):    \n",
    "    fpr[i], tpr[i], thresh[i] = roc_curve(y_train, DAG_rbf_pred_prob[:,i], pos_label=i)\n",
    "    \n",
    "# plotting    \n",
    "plt.plot(fpr[0], tpr[0], linestyle='--',color='orange', label='Class totally green vs Rest')\n",
    "plt.plot(fpr[1], tpr[1], linestyle='--',color='green', label='Class yellow with green tips vs Rest')\n",
    "plt.plot(fpr[2], tpr[2], linestyle='--',color='blue', label='Class yellow with brown spots vs Rest')\n",
    "plt.title('(b) DAGMSVM RBF Kernel with PCA')\n",
    "plt.xlabel('False Positive Rate')\n",
    "plt.ylabel('True Positive rate')\n",
    "plt.legend(loc='best')  "
   ]
  },
  {
   "cell_type": "code",
   "execution_count": null,
   "metadata": {},
   "outputs": [],
   "source": []
  }
 ],
 "metadata": {
  "colab": {
   "collapsed_sections": [
    "U-k-iRlwde3R",
    "0Cf9pkceeGth",
    "YsxMmoRje_XG"
   ],
   "name": "JorgeEnriquez_FifthCase_1.ipynb",
   "provenance": []
  },
  "kernelspec": {
   "display_name": "Python 3 (ipykernel)",
   "language": "python",
   "name": "python3"
  },
  "language_info": {
   "codemirror_mode": {
    "name": "ipython",
    "version": 3
   },
   "file_extension": ".py",
   "mimetype": "text/x-python",
   "name": "python",
   "nbconvert_exporter": "python",
   "pygments_lexer": "ipython3",
   "version": "3.8.10"
  }
 },
 "nbformat": 4,
 "nbformat_minor": 1
}
